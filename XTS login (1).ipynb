{
 "cells": [
  {
   "cell_type": "code",
   "execution_count": 1,
   "id": "813ac195",
   "metadata": {},
   "outputs": [
    {
     "ename": "ModuleNotFoundError",
     "evalue": "No module named 'XTSConnect'",
     "output_type": "error",
     "traceback": [
      "\u001b[1;31m---------------------------------------------------------------------------\u001b[0m",
      "\u001b[1;31mModuleNotFoundError\u001b[0m                       Traceback (most recent call last)",
      "\u001b[1;32m~\\AppData\\Local\\Temp\\ipykernel_12252\\1074562460.py\u001b[0m in \u001b[0;36m<module>\u001b[1;34m\u001b[0m\n\u001b[0;32m     20\u001b[0m \u001b[1;32mfrom\u001b[0m \u001b[0murllib\u001b[0m\u001b[1;33m.\u001b[0m\u001b[0mparse\u001b[0m \u001b[1;32mimport\u001b[0m \u001b[0murljoin\u001b[0m\u001b[1;33m\u001b[0m\u001b[1;33m\u001b[0m\u001b[0m\n\u001b[0;32m     21\u001b[0m \u001b[1;32mimport\u001b[0m \u001b[0mjson\u001b[0m\u001b[1;33m\u001b[0m\u001b[1;33m\u001b[0m\u001b[0m\n\u001b[1;32m---> 22\u001b[1;33m \u001b[1;32mfrom\u001b[0m \u001b[0mXTSConnect\u001b[0m\u001b[1;33m.\u001b[0m\u001b[0mConnect\u001b[0m \u001b[1;32mimport\u001b[0m \u001b[0mXTSConnect\u001b[0m\u001b[1;33m,\u001b[0m\u001b[0mXTSCommon\u001b[0m\u001b[1;33m\u001b[0m\u001b[1;33m\u001b[0m\u001b[0m\n\u001b[0m\u001b[0;32m     23\u001b[0m \u001b[1;32mimport\u001b[0m \u001b[0mipynb_path\u001b[0m\u001b[1;33m\u001b[0m\u001b[1;33m\u001b[0m\u001b[0m\n",
      "\u001b[1;31mModuleNotFoundError\u001b[0m: No module named 'XTSConnect'"
     ]
    }
   ],
   "source": [
    "\"\"\" Regular Library\"\"\"\n",
    "import pandas as pd\n",
    "from datetime import datetime, date, timedelta\n",
    "import datetime as dt\n",
    "from time import sleep\n",
    "from pathlib import Path\n",
    "import os\n",
    "import sys\n",
    "from colorama import Fore, Back, Style\n",
    "import logging\n",
    "import schedule\n",
    "import time\n",
    "\"\"\" For Negleting Warnings during connecting Webdrive\"\"\"\n",
    "import warnings\n",
    "from PIL import ImageFont, ImageDraw, Image\n",
    "\"\"\" WebSocket Library\"\"\"\n",
    "import threading\n",
    "import multiprocessing\n",
    "import requests\n",
    "from urllib.parse import urljoin\n",
    "import json\n",
    "from XTSConnect.Connect import XTSConnect,XTSCommon\n",
    "import ipynb_path"
   ]
  },
  {
   "cell_type": "code",
   "execution_count": 2,
   "id": "7d58fc2b",
   "metadata": {},
   "outputs": [
    {
     "name": "stdout",
     "output_type": "stream",
     "text": [
      "Note: you may need to restart the kernel to use updated packages.\n"
     ]
    },
    {
     "name": "stderr",
     "output_type": "stream",
     "text": [
      "ERROR: Could not find a version that satisfies the requirement XTSConnect (from versions: none)\n",
      "ERROR: No matching distribution found for XTSConnect\n"
     ]
    }
   ],
   "source": [
    "pip install XTSConnect"
   ]
  },
  {
   "cell_type": "code",
   "execution_count": null,
   "id": "9ee439b9",
   "metadata": {},
   "outputs": [],
   "source": [
    "ClientID='D0253171'\n",
    "xts_cre_path=Path(f'C:/B120_orders/{ClientID}/helper/xts_client_credentials.csv')\n",
    "xts_credentials_file_path = xts_cre_path\n",
    "Xts_access_token_path = pd.read_csv(xts_credentials_file_path)\n",
    "Xts_access_token_path"
   ]
  },
  {
   "cell_type": "code",
   "execution_count": null,
   "id": "f0a91745",
   "metadata": {},
   "outputs": [],
   "source": [
    "Xts_access_token_path"
   ]
  },
  {
   "cell_type": "code",
   "execution_count": null,
   "id": "15afaca4",
   "metadata": {},
   "outputs": [],
   "source": [
    "for i in range(len(Xts_access_token_path)):\n",
    "    client_credentials_path = Xts_access_token_path.iloc[i]\n",
    "    #XTS login nirmal bang\n",
    "    API = client_credentials_path.API\n",
    "    Secret = client_credentials_path.SECRET\n",
    "    Source = client_credentials_path.SOURCE\n",
    "    Url_xts = client_credentials_path.ROOT_URL\n",
    "    clientID = client_credentials_path.CLIENTID\n",
    "\n",
    "    #  Log IN XTS API \n",
    "    xt = XTSConnect(API, Secret, Source, Url_xts)\n",
    "    response = xt.interactive_login()\n",
    "    Xts_access_token_path.at[i,'Access_token'] = response['result']['token']\n",
    "    Xts_access_token_path.to_csv(xts_credentials_file_path, index=False)\n",
    "    print(clientID, \" - XTS login done.\")"
   ]
  },
  {
   "cell_type": "code",
   "execution_count": null,
   "id": "3b97685a",
   "metadata": {},
   "outputs": [],
   "source": [
    "xts_root_url = Xts_access_token_path.ROOT_URL.iloc[0]\n",
    "xts_access_token = Xts_access_token_path.Access_token.iloc[0]\n",
    "headers =  {'Content-Type': 'application/json', 'authorization': f'{xts_access_token}'}"
   ]
  },
  {
   "cell_type": "code",
   "execution_count": null,
   "id": "4279dd74",
   "metadata": {},
   "outputs": [],
   "source": [
    "def get_order_book():\n",
    "    get_orders_history_path = urljoin(xts_root_url,f\"/interactive/orders\")\n",
    "    response=requests.get(get_orders_history_path, headers=headers)\n",
    "    response = response.json()\n",
    "    return response"
   ]
  },
  {
   "cell_type": "code",
   "execution_count": null,
   "id": "9b33bded",
   "metadata": {},
   "outputs": [],
   "source": [
    "while True:\n",
    "    order_book = get_order_book()\n",
    "    dataframe = pd.DataFrame(order_book['result'])\n",
    "    dataframe.to_csv(f'C:/B120_orders/{ClientID}/helper/live_order_book.csv', index=False)\n",
    "    sleep(1)"
   ]
  },
  {
   "cell_type": "code",
   "execution_count": null,
   "id": "12574fd2",
   "metadata": {},
   "outputs": [],
   "source": []
  },
  {
   "cell_type": "code",
   "execution_count": null,
   "id": "37a9ed11",
   "metadata": {},
   "outputs": [],
   "source": []
  }
 ],
 "metadata": {
  "kernelspec": {
   "display_name": "Python 3 (ipykernel)",
   "language": "python",
   "name": "python3"
  },
  "language_info": {
   "codemirror_mode": {
    "name": "ipython",
    "version": 3
   },
   "file_extension": ".py",
   "mimetype": "text/x-python",
   "name": "python",
   "nbconvert_exporter": "python",
   "pygments_lexer": "ipython3",
   "version": "3.9.13"
  }
 },
 "nbformat": 4,
 "nbformat_minor": 5
}
